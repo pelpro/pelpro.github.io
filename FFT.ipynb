{
 "cells": [
  {
   "cell_type": "code",
   "execution_count": 1,
   "metadata": {},
   "outputs": [
    {
     "ename": "ImportError",
     "evalue": "No module named matplotlib.pyplot",
     "output_type": "error",
     "traceback": [
      "\u001b[0;31m---------------------------------------------------------------------------\u001b[0m",
      "\u001b[0;31mImportError\u001b[0m                               Traceback (most recent call last)",
      "\u001b[0;32m<ipython-input-1-aff47bc021ba>\u001b[0m in \u001b[0;36m<module>\u001b[0;34m()\u001b[0m\n\u001b[1;32m      1\u001b[0m \u001b[0;32mimport\u001b[0m \u001b[0mmath\u001b[0m\u001b[0;34m\u001b[0m\u001b[0m\n\u001b[0;32m----> 2\u001b[0;31m \u001b[0;32mimport\u001b[0m \u001b[0mmatplotlib\u001b[0m\u001b[0;34m.\u001b[0m\u001b[0mpyplot\u001b[0m \u001b[0;32mas\u001b[0m \u001b[0mplt\u001b[0m\u001b[0;34m\u001b[0m\u001b[0m\n\u001b[0m\u001b[1;32m      3\u001b[0m \u001b[0;32mimport\u001b[0m \u001b[0mnumpy\u001b[0m \u001b[0;32mas\u001b[0m \u001b[0mnp\u001b[0m\u001b[0;34m\u001b[0m\u001b[0m\n\u001b[1;32m      4\u001b[0m \u001b[0mget_ipython\u001b[0m\u001b[0;34m(\u001b[0m\u001b[0;34m)\u001b[0m\u001b[0;34m.\u001b[0m\u001b[0mmagic\u001b[0m\u001b[0;34m(\u001b[0m\u001b[0;34mu'matplotlib inline'\u001b[0m\u001b[0;34m)\u001b[0m\u001b[0;34m\u001b[0m\u001b[0m\n",
      "\u001b[0;31mImportError\u001b[0m: No module named matplotlib.pyplot"
     ]
    }
   ],
   "source": [
    "import copy\n",
    "import math\n",
    "import matplotlib.pyplot as plt\n",
    "import numpy as np\n",
    "%matplotlib inline "
   ]
  },
  {
   "cell_type": "code",
   "execution_count": 2,
   "metadata": {},
   "outputs": [],
   "source": [
    "def FFTreverse(array):\n",
    "    n = array.size\n",
    "    if n == 1:\n",
    "        return \n",
    "    \n",
    "    vector1 = np.zeros(n // 2, dtype = complex)\n",
    "    vector2 = np.zeros(n // 2, dtype = complex)\n",
    "    j = 0\n",
    "    \n",
    "    for i in range(0, n - 1, 2):\n",
    "        vector1[j] = copy.deepcopy(array[i]);\n",
    "        vector2[j] = copy.deepcopy(array[i + 1]);\n",
    "        j += 1;  \n",
    "        \n",
    "    FFTreverse(vector2)\n",
    "    FFTreverse(vector1)\n",
    "    \n",
    "    angle = -2 * math.pi / n\n",
    "    w = complex(1)\n",
    "    wn = complex(math.cos(angle), math.sin(angle))\n",
    "    for i in range(0, n // 2):\n",
    "        array[i] = (vector1[i] + w * vector2[i]) / 2;\n",
    "        array[i + n // 2] = (vector1[i] - w * vector2[i]) / 2;\n",
    "        w *= wn"
   ]
  },
  {
   "cell_type": "code",
   "execution_count": 4,
   "metadata": {},
   "outputs": [],
   "source": [
    "def FFT(array):\n",
    "    n = array.size\n",
    "    if n == 1:\n",
    "        return\n",
    "    \n",
    "    vector1 = np.zeros(n//2,dtype = complex)\n",
    "    vector2 = np.zeros(n//2,dtype = complex)\n",
    "    j = 0\n",
    "    \n",
    "    for i in range( 0 , n-1 , 2) :\n",
    "        vector1[j] = copy.deepcopy(array[i]);\n",
    "        vector2[j] = copy.deepcopy(array[i + 1]);\n",
    "        j += 1;  \n",
    "        \n",
    "    FFT(vector1)\n",
    "    FFT(vector2)\n",
    "    \n",
    "    angle = 2 * math.pi / n\n",
    "    w = complex(1)\n",
    "    wn = complex(math.cos(angle), math.sin(angle))\n",
    "    for i in range(0, n // 2):\n",
    "        array[i] = vector1[i] + w * vector2[i];\n",
    "        array[i + n // 2] = v1[i] - w * vector2[i];\n",
    "        w *= wn\n",
    "                "
   ]
  },
  {
   "cell_type": "code",
   "execution_count": 5,
   "metadata": {},
   "outputs": [],
   "source": [
    "def powm(x):\n",
    "    powm = 0;\n",
    "    while 2**powm < x:\n",
    "        powm += 1\n",
    "    return powm"
   ]
  },
  {
   "cell_type": "code",
   "execution_count": 6,
   "metadata": {},
   "outputs": [
    {
     "ename": "NameError",
     "evalue": "name 'np' is not defined",
     "output_type": "error",
     "traceback": [
      "\u001b[0;31m---------------------------------------------------------------------------\u001b[0m",
      "\u001b[0;31mNameError\u001b[0m                                 Traceback (most recent call last)",
      "\u001b[0;32m<ipython-input-6-51d1da5a4e03>\u001b[0m in \u001b[0;36m<module>\u001b[0;34m()\u001b[0m\n\u001b[1;32m      2\u001b[0m \u001b[0mpowm\u001b[0m \u001b[0;34m=\u001b[0m \u001b[0mpowm\u001b[0m\u001b[0;34m(\u001b[0m\u001b[0mfreq\u001b[0m\u001b[0;34m)\u001b[0m\u001b[0;34m\u001b[0m\u001b[0m\n\u001b[1;32m      3\u001b[0m \u001b[0mnumber\u001b[0m \u001b[0;34m=\u001b[0m \u001b[0mfreq\u001b[0m\u001b[0;34m**\u001b[0m\u001b[0mpowm\u001b[0m \u001b[0;34m-\u001b[0m \u001b[0mfreq\u001b[0m\u001b[0;34m\u001b[0m\u001b[0m\n\u001b[0;32m----> 4\u001b[0;31m \u001b[0mf\u001b[0m \u001b[0;34m=\u001b[0m \u001b[0mnp\u001b[0m\u001b[0;34m.\u001b[0m\u001b[0marray\u001b[0m\u001b[0;34m(\u001b[0m\u001b[0;34m[\u001b[0m\u001b[0mmath\u001b[0m\u001b[0;34m.\u001b[0m\u001b[0msin\u001b[0m\u001b[0;34m(\u001b[0m\u001b[0mx\u001b[0m\u001b[0;34m*\u001b[0m\u001b[0mx\u001b[0m\u001b[0;34m)\u001b[0m \u001b[0;32mfor\u001b[0m \u001b[0mx\u001b[0m \u001b[0;32min\u001b[0m \u001b[0mnp\u001b[0m\u001b[0;34m.\u001b[0m\u001b[0mlinspace\u001b[0m\u001b[0;34m(\u001b[0m\u001b[0;36m0\u001b[0m\u001b[0;34m,\u001b[0m \u001b[0;36m10\u001b[0m\u001b[0;34m,\u001b[0m \u001b[0;36m2\u001b[0m\u001b[0;34m**\u001b[0m\u001b[0mpowm\u001b[0m\u001b[0;34m)\u001b[0m\u001b[0;34m]\u001b[0m\u001b[0;34m,\u001b[0m \u001b[0mdtype\u001b[0m \u001b[0;34m=\u001b[0m \u001b[0mcomplex\u001b[0m\u001b[0;34m)\u001b[0m\u001b[0;34m\u001b[0m\u001b[0m\n\u001b[0m\u001b[1;32m      5\u001b[0m \u001b[0mplt\u001b[0m\u001b[0;34m.\u001b[0m\u001b[0mplot\u001b[0m\u001b[0;34m(\u001b[0m\u001b[0mnp\u001b[0m\u001b[0;34m.\u001b[0m\u001b[0mreal\u001b[0m\u001b[0;34m(\u001b[0m\u001b[0mf\u001b[0m\u001b[0;34m)\u001b[0m\u001b[0;34m)\u001b[0m\u001b[0;34m;\u001b[0m\u001b[0;34m\u001b[0m\u001b[0m\n",
      "\u001b[0;31mNameError\u001b[0m: name 'np' is not defined"
     ]
    }
   ],
   "source": [
    "freq = 100\n",
    "powm = powm(freq)\n",
    "number = freq**powm - freq\n",
    "f = np.array([math.sin(x*x) for x in np.linspace(0, 10, 2**powm)], dtype = complex)\n",
    "plt.plot(np.real(f));"
   ]
  },
  {
   "cell_type": "code",
   "execution_count": null,
   "metadata": {},
   "outputs": [],
   "source": [
    "deqpart = 80\n",
    "FFT(f);\n",
    "for i in range(f.size - 1, f.size - f.size * deqpart // 100, -1):\n",
    "    f[i] = 0\n",
    "FFTreverse(f);\n",
    "plt.plot(np.real(f));"
   ]
  }
 ],
 "metadata": {
  "kernelspec": {
   "display_name": "Python 2",
   "language": "python",
   "name": "python2"
  },
  "language_info": {
   "codemirror_mode": {
    "name": "ipython",
    "version": 2
   },
   "file_extension": ".py",
   "mimetype": "text/x-python",
   "name": "python",
   "nbconvert_exporter": "python",
   "pygments_lexer": "ipython2",
   "version": "2.7.12+"
  }
 },
 "nbformat": 4,
 "nbformat_minor": 2
}
